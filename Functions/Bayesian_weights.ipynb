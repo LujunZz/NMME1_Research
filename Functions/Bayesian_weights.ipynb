{
 "cells": [
  {
   "cell_type": "code",
   "execution_count": null,
   "metadata": {},
   "outputs": [],
   "source": [
    "# Bayesian Moedl Averagin weights computation\n",
    "def Bayesian_weights(simulations, observations):\n",
    "    \"\"\"\n",
    "    -------------------------------------------------------\n",
    "    m ensemble members\n",
    "    n number of observations\n",
    "    simulations - m by n simulations from ensemble members\n",
    "    observations - n by 1 observation data\n",
    "    BIC - Bayesian Information Critirion\n",
    "    -------------------------------------------------------\n",
    "    This function return the weights for m ensemble members\n",
    "    -------------------------------------------------------\n",
    "    Last updated by Lujun Zhang on 11/24/2019\n",
    "    -------------------------------------------------------\n",
    "    \"\"\"\n",
    "    [n,m] = np.shape(simulations)\n",
    "    BIC = np.zeros(m)\n",
    "    wgt = np.zeros(m)\n",
    "    for i in range(m):\n",
    "        error_variance = np.sum(np.power(simulations[:,i]-observations,2))/n\n",
    "        BIC[i] = 2*n*np.log(error_variance)\n",
    "    for i in range(m):\n",
    "        BIC_sub = BIC - BIC[i]\n",
    "        wgt[i] = 1/np.sum(np.exp(-0.5*BIC_sub))\n",
    "    return wgt"
   ]
  }
 ],
 "metadata": {
  "kernelspec": {
   "display_name": "Python 3",
   "language": "python",
   "name": "python3"
  },
  "language_info": {
   "codemirror_mode": {
    "name": "ipython",
    "version": 3
   },
   "file_extension": ".py",
   "mimetype": "text/x-python",
   "name": "python",
   "nbconvert_exporter": "python",
   "pygments_lexer": "ipython3",
   "version": "3.6.5"
  }
 },
 "nbformat": 4,
 "nbformat_minor": 4
}
