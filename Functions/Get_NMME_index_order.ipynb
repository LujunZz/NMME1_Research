{
 "cells": [
  {
   "cell_type": "code",
   "execution_count": null,
   "metadata": {},
   "outputs": [],
   "source": [
    "def Get_NMME_index_order(ncInput):\n",
    "    \"\"\"\n",
    "    ------------------------------------------------------\n",
    "    ncInput must be a NC.object created by netCDF4 package\n",
    "    Example on NC.object:\n",
    "     import netCDF4 as nc\n",
    "     NC.object = nc.Dataset('xxx/xx.nc')\n",
    "    ------------------------------------------------------\n",
    "    Each NMME member's indeces could be in\n",
    "    different order. This function returns an \n",
    "    list object that save all variables of given\n",
    "    dataset in order\n",
    "    ------------------------------------------------------\n",
    "    Last updated on 11/24/2019 by Lujun Zhang\n",
    "    ------------------------------------------------------\n",
    "    \"\"\"\n",
    "    Var_name = str(ncInput)\n",
    "    start_index = Var_name.find('prec')\n",
    "    if Var_name.find('prec')!=-1:\n",
    "        Var_name = Var_name[start_index+5:start_index+14]\n",
    "        Order_list = ['a','a','a','a','a']\n",
    "        for i in range(len(Var_name)):\n",
    "            if i%2 == 0:\n",
    "                Order_list[int(i/2)] = Var_name[i]               \n",
    "    elif Var_name.find('prec')==-1:\n",
    "        start_index = Var_name.find('prate')\n",
    "        Var_name = Var_name[start_index+6:start_index+11]\n",
    "        Order_list = ['a','a','a']\n",
    "        for i in range(len(Var_name)):\n",
    "            if i%2 == 0:\n",
    "                Order_list[int(i/2)] = Var_name[i]        \n",
    "    else:\n",
    "        print ('Error there have no dim')\n",
    "        os.system(\"pause\")\n",
    "        exit(0)\n",
    "    return Order_list"
   ]
  }
 ],
 "metadata": {
  "kernelspec": {
   "display_name": "Python 3",
   "language": "python",
   "name": "python3"
  },
  "language_info": {
   "codemirror_mode": {
    "name": "ipython",
    "version": 3
   },
   "file_extension": ".py",
   "mimetype": "text/x-python",
   "name": "python",
   "nbconvert_exporter": "python",
   "pygments_lexer": "ipython3",
   "version": "3.6.5"
  }
 },
 "nbformat": 4,
 "nbformat_minor": 4
}
