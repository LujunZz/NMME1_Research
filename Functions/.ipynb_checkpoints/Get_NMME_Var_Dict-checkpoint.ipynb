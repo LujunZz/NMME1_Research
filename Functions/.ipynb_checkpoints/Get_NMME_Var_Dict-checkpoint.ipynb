{
 "cells": [
  {
   "cell_type": "code",
   "execution_count": null,
   "metadata": {},
   "outputs": [],
   "source": [
    "def Get_NMME_Var_Dict(ncInput):\n",
    "    \"\"\"\n",
    "    ------------------------------------------------------\n",
    "    ncInput must be a NC.object created by netCDF4 package\n",
    "    Example on NC.object:\n",
    "     import netCDF4 as nc\n",
    "     NC.object = nc.Dataset('xxx/xx.nc')\n",
    "    ------------------------------------------------------\n",
    "    The returned Var_Dict is a Dict object that contains \n",
    "    all the \"variables\" along with their \"size\" for a given \n",
    "    input NMME member dataset except for Prec or Prate\n",
    "    ------------------------------------------------------\n",
    "    \"\"\"\n",
    "    Var_name = list(ncInput.variables.keys())\n",
    "    if np.size(Var_name) == 6:\n",
    "        Var_name.remove('prec')\n",
    "    else:\n",
    "        Var_name.remove('prate')\n",
    "    Var_Dict = {}\n",
    "    for i in Var_name:\n",
    "        Var_Dict[i]= np.size(ncInput[i][:])\n",
    "    return Var_Dict"
   ]
  }
 ],
 "metadata": {
  "kernelspec": {
   "display_name": "Python 3",
   "language": "python",
   "name": "python3"
  },
  "language_info": {
   "codemirror_mode": {
    "name": "ipython",
    "version": 3
   },
   "file_extension": ".py",
   "mimetype": "text/x-python",
   "name": "python",
   "nbconvert_exporter": "python",
   "pygments_lexer": "ipython3",
   "version": "3.6.5"
  }
 },
 "nbformat": 4,
 "nbformat_minor": 4
}
