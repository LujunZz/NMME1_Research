{
 "cells": [
  {
   "cell_type": "code",
   "execution_count": 1,
   "metadata": {},
   "outputs": [],
   "source": [
    "def NSE_Func(measurement,simulation):\n",
    "    \"\"\"\n",
    "    measurement and simulation must be two ndarray with same shape\n",
    "    Last updated at 11/24/2019 by Lujun Zhang\n",
    "    \"\"\"\n",
    "    \n",
    "    numerator = np.square(measurement - simulation)\n",
    "    numerator = numerator.sum()\n",
    "    denominator = np.power(measurement - measurement.mean(),2)\n",
    "    denominator = denominator.sum()\n",
    "    NSE = 1 - numerator/denominator\n",
    "    return[NSE]"
   ]
  }
 ],
 "metadata": {
  "kernelspec": {
   "display_name": "Python 3",
   "language": "python",
   "name": "python3"
  },
  "language_info": {
   "codemirror_mode": {
    "name": "ipython",
    "version": 3
   },
   "file_extension": ".py",
   "mimetype": "text/x-python",
   "name": "python",
   "nbconvert_exporter": "python",
   "pygments_lexer": "ipython3",
   "version": "3.6.5"
  }
 },
 "nbformat": 4,
 "nbformat_minor": 4
}
