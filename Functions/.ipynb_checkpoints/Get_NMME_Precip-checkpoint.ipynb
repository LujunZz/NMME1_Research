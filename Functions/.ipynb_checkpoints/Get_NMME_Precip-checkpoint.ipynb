{
 "cells": [
  {
   "cell_type": "code",
   "execution_count": null,
   "metadata": {},
   "outputs": [],
   "source": [
    "def Get_NMME_Precip(ncInput,Leadtime_idx):\n",
    "    \"\"\"\n",
    "    ------------------------------------------------------\n",
    "    ncInput must be a NC.object created by netCDF4 package\n",
    "    Example on NC.object:\n",
    "     import netCDF4 as nc\n",
    "     NC.object = nc.Dataset('xxx/xx.nc')\n",
    "    Leadtime_idx specifies the index of the Leadtime \n",
    "    for most the NMME members,leadtime index:\n",
    "    [0,    1,    2,    3,   ...]\n",
    "    [0.5M, 1.5M, 2.5M, 3.5M,...]\n",
    "    ------------------------------------------------------\n",
    "    The returned varData matrixa could be either monthly\n",
    "    precipitation or precipitation rate\n",
    "    ------------------------------------------------------\n",
    "    Last updated on 11/24/2019 by Lujun Zhang\n",
    "    ------------------------------------------------------\n",
    "    \"\"\"\n",
    "    Order_list = Get_NMME_index_order(ncInput)\n",
    "    if np.size(Order_list)==5 and Order_list[1] == 'L':\n",
    "        Var_name = 'prec'\n",
    "        varData = ncInput.variables[Var_name][:,Leadtime_idx,:,:,:]\n",
    "        return varData\n",
    "    if np.size(Order_list)==5 and Order_list[2] == 'L':\n",
    "        Var_name = 'prec'\n",
    "        varData = ncInput.variables[Var_name][:,:,Leadtime_idx,:,:]\n",
    "        return varData \n",
    "    if np.size(Order_list)==3:\n",
    "        Var_name = 'prate'\n",
    "        varData = ncInput.variables[Var_name][:,:,:]   \n",
    "        return varData"
   ]
  }
 ],
 "metadata": {
  "kernelspec": {
   "display_name": "Python 3",
   "language": "python",
   "name": "python3"
  },
  "language_info": {
   "codemirror_mode": {
    "name": "ipython",
    "version": 3
   },
   "file_extension": ".py",
   "mimetype": "text/x-python",
   "name": "python",
   "nbconvert_exporter": "python",
   "pygments_lexer": "ipython3",
   "version": "3.6.5"
  }
 },
 "nbformat": 4,
 "nbformat_minor": 4
}
